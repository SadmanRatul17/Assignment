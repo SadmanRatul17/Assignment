{
  "nbformat": 4,
  "nbformat_minor": 0,
  "metadata": {
    "colab": {
      "provenance": []
    },
    "kernelspec": {
      "name": "python3",
      "display_name": "Python 3"
    },
    "language_info": {
      "name": "python"
    }
  },
  "cells": [
    {
      "cell_type": "markdown",
      "source": [
        "Id: 2215151007"
      ],
      "metadata": {
        "id": "C3gCUHCaKyYD"
      }
    },
    {
      "cell_type": "markdown",
      "source": [
        "**Generate two sets of from a normal distribution and perform a two-sample t-test.**\n",
        "\n",
        "- Randomly generate 50 values from a normal distribution with a chosen mean (μ1) and standard deviation.\n",
        "- Randomly generate 50 values from a normal distribution with a different mean (μ2) and standard deviation.\n",
        "\n",
        "\n",
        "Use and determine whether the means differ significantly"
      ],
      "metadata": {
        "id": "0VcW1oenK4cz"
      }
    },
    {
      "cell_type": "code",
      "execution_count": 1,
      "metadata": {
        "colab": {
          "base_uri": "https://localhost:8080/"
        },
        "id": "yJF1gf8RKtVO",
        "outputId": "55cabf58-53a2-43b6-f0bd-aac83f34a597"
      },
      "outputs": [
        {
          "output_type": "stream",
          "name": "stdout",
          "text": [
            "t-statistic: -3.7600\n",
            "p-value: 0.000291\n",
            "Reject the null hypothesis: The means are significantly different.\n"
          ]
        }
      ],
      "source": [
        "import numpy as np\n",
        "import scipy.stats as stats\n",
        "\n",
        "np.random.seed(42)\n",
        "\n",
        "\n",
        "mu1, sigma1 = 50, 10\n",
        "mu2, sigma2 = 55, 12\n",
        "\n",
        "\n",
        "sample1 = np.random.normal(mu1, sigma1, 50)\n",
        "sample2 = np.random.normal(mu2, sigma2, 50)\n",
        "\n",
        "\n",
        "t_stat, p_value = stats.ttest_ind(sample1, sample2, equal_var=False)\n",
        "\n",
        "\n",
        "print(f\"t-statistic: {t_stat:.4f}\")\n",
        "print(f\"p-value: {p_value:.6f}\")\n",
        "\n",
        "\n",
        "alpha = 0.05\n",
        "if p_value < alpha:\n",
        "    print(\"Reject the null hypothesis: The means are significantly different.\")\n",
        "else:\n",
        "    print(\"Fail to reject the null hypothesis: No significant difference in means.\")\n"
      ]
    },
    {
      "cell_type": "markdown",
      "source": [
        "**Conclusion:** Based on the two-sample t-test results, if the p-value is less than the chosen significance level (0.05), we reject the null hypothesis and conclude that the means of the two samples differ significantly. Otherwise, if the p-value is greater than 0.05, we fail to reject the null hypothesis, indicating no significant difference between the means of the two samples."
      ],
      "metadata": {
        "id": "aersttCyMIoy"
      }
    }
  ]
}
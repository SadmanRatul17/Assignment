{
  "nbformat": 4,
  "nbformat_minor": 0,
  "metadata": {
    "colab": {
      "provenance": []
    },
    "kernelspec": {
      "name": "python3",
      "display_name": "Python 3"
    },
    "language_info": {
      "name": "python"
    }
  },
  "cells": [
    {
      "cell_type": "markdown",
      "source": [
        "Name : Md Sadman Sayed Ratul <br>\n",
        "Id   : 2215151007"
      ],
      "metadata": {
        "id": "s0YFnf5hIpIk"
      }
    },
    {
      "cell_type": "markdown",
      "source": [
        "**Use numpy to create a 3×3 matrix of random integers between 1 and 50.**"
      ],
      "metadata": {
        "id": "gGyJ07t1GWn1"
      }
    },
    {
      "cell_type": "code",
      "source": [
        "import numpy as np\n",
        "\n",
        "random_matrix = np.random.randint(1, 51, (3, 3))"
      ],
      "metadata": {
        "id": "BDKOWOyiGhKM"
      },
      "execution_count": 1,
      "outputs": []
    },
    {
      "cell_type": "markdown",
      "source": [
        "**Run the code twice**"
      ],
      "metadata": {
        "id": "Hw2hYCjRGu1k"
      }
    },
    {
      "cell_type": "code",
      "execution_count": 3,
      "metadata": {
        "colab": {
          "base_uri": "https://localhost:8080/"
        },
        "id": "_oFVG3oHGRks",
        "outputId": "ad9d8572-a0e6-47b5-838f-486acd394c78"
      },
      "outputs": [
        {
          "output_type": "stream",
          "name": "stdout",
          "text": [
            "[[ 3 47 34]\n",
            " [11  4 47]\n",
            " [32 49  3]]\n"
          ]
        }
      ],
      "source": [
        "print(random_matrix )"
      ]
    },
    {
      "cell_type": "markdown",
      "source": [
        "**With a fixed seed (`np.random.seed(10)`) to ensure reproducibility.**"
      ],
      "metadata": {
        "id": "iXer2-qqHUFk"
      }
    },
    {
      "cell_type": "code",
      "source": [
        "np.random.seed(10)\n",
        "random_matrix = np.random.randint(1, 51, (3, 3))\n",
        "print(random_matrix)"
      ],
      "metadata": {
        "colab": {
          "base_uri": "https://localhost:8080/"
        },
        "id": "kgXBqrXzHN-X",
        "outputId": "09ee43d5-72a2-40e0-d2c6-cd643d794649"
      },
      "execution_count": 15,
      "outputs": [
        {
          "output_type": "stream",
          "name": "stdout",
          "text": [
            "[[10 37 16]\n",
            " [ 1 50 29]\n",
            " [26 30 49]]\n"
          ]
        }
      ]
    },
    {
      "cell_type": "code",
      "source": [
        "print(random_matrix)"
      ],
      "metadata": {
        "colab": {
          "base_uri": "https://localhost:8080/"
        },
        "id": "Vn5peREmJ2uJ",
        "outputId": "a05ea105-aec1-4f3f-e50d-905becbfc970"
      },
      "execution_count": 17,
      "outputs": [
        {
          "output_type": "stream",
          "name": "stdout",
          "text": [
            "[[10 37 16]\n",
            " [ 1 50 29]\n",
            " [26 30 49]]\n"
          ]
        }
      ]
    },
    {
      "cell_type": "markdown",
      "source": [
        "**Without setting a seed, allowing random values to change each time.**"
      ],
      "metadata": {
        "id": "vZ7VV6lOHl4D"
      }
    },
    {
      "cell_type": "code",
      "source": [
        "random_matrix = np.random.randint(1, 51, (3, 3))\n",
        "print(random_matrix)"
      ],
      "metadata": {
        "colab": {
          "base_uri": "https://localhost:8080/"
        },
        "id": "DwsCtp8rHufD",
        "outputId": "356b6b2a-ebe5-44ef-df58-05006067a7e6"
      },
      "execution_count": 26,
      "outputs": [
        {
          "output_type": "stream",
          "name": "stdout",
          "text": [
            "[[16 19 17]\n",
            " [ 8 25 12]\n",
            " [18 47  8]]\n"
          ]
        }
      ]
    },
    {
      "cell_type": "markdown",
      "source": [
        "**Observe and explain the differences in outputs.**"
      ],
      "metadata": {
        "id": "ZmZ9v9fcH-3S"
      }
    },
    {
      "cell_type": "markdown",
      "source": [
        "- When using a fixed seed (np.random.seed(10)), NumPy ensures that the same random numbers are generated every time the code runs. This makes results reproducible, which is useful for debugging and sharing code.\n",
        "\n",
        "- Without setting a seed, NumPy generates truly random numbers each time the script is run. As a result, the matrix values will change with every execution, making the outputs unpredictable."
      ],
      "metadata": {
        "id": "5QhdVNBFIEaV"
      }
    }
  ]
}